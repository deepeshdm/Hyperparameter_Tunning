{
 "cells": [
  {
   "cell_type": "markdown",
   "id": "silver-skating",
   "metadata": {},
   "source": [
    "# GridSearch using SkLearn"
   ]
  },
  {
   "cell_type": "code",
   "execution_count": 12,
   "id": "handmade-vector",
   "metadata": {},
   "outputs": [],
   "source": [
    "import pandas as pd\n",
    "import numpy as np\n",
    "from sklearn.model_selection import RandomizedSearchCV\n",
    "from sklearn.svm import SVC"
   ]
  },
  {
   "cell_type": "code",
   "execution_count": 13,
   "id": "measured-excerpt",
   "metadata": {},
   "outputs": [],
   "source": [
    "df = pd.read_csv(\"Titanic_Dataset.csv\")\n",
    "age_mean = np.mean(df[\"Age\"])\n",
    "df[\"Age\"].fillna(age_mean,inplace=True)"
   ]
  },
  {
   "cell_type": "markdown",
   "id": "romance-america",
   "metadata": {},
   "source": [
    "**Taking only first 100 samples to reduce computation time**"
   ]
  },
  {
   "cell_type": "code",
   "execution_count": 14,
   "id": "exposed-puppy",
   "metadata": {},
   "outputs": [],
   "source": [
    "x = np.array(df[[\"Age\",\"SibSp\",\"Parch\"]].head(100))\n",
    "y = np.array(df[\"Survived\"].head(100))"
   ]
  },
  {
   "cell_type": "markdown",
   "id": "white-finding",
   "metadata": {},
   "source": [
    "**Creating required parameters**"
   ]
  },
  {
   "cell_type": "code",
   "execution_count": 15,
   "id": "material-blind",
   "metadata": {},
   "outputs": [
    {
     "data": {
      "text/plain": [
       "{'mean_fit_time': array([1.29658599, 0.00240664, 0.00409069]),\n",
       " 'std_fit_time': array([2.04992307e+00, 1.96506037e-03, 1.65274304e-04]),\n",
       " 'mean_score_time': array([0.        , 0.00079985, 0.00181203]),\n",
       " 'std_score_time': array([0.        , 0.00159969, 0.00183904]),\n",
       " 'param_kernel': masked_array(data=['linear', 'rbf', 'rbf'],\n",
       "              mask=[False, False, False],\n",
       "        fill_value='?',\n",
       "             dtype=object),\n",
       " 'param_C': masked_array(data=[20, 10, 20],\n",
       "              mask=[False, False, False],\n",
       "        fill_value='?',\n",
       "             dtype=object),\n",
       " 'params': [{'kernel': 'linear', 'C': 20},\n",
       "  {'kernel': 'rbf', 'C': 10},\n",
       "  {'kernel': 'rbf', 'C': 20}],\n",
       " 'split0_test_score': array([0.65, 0.5 , 0.5 ]),\n",
       " 'split1_test_score': array([0.6, 0.6, 0.6]),\n",
       " 'split2_test_score': array([0.6 , 0.6 , 0.65]),\n",
       " 'split3_test_score': array([0.65, 0.6 , 0.6 ]),\n",
       " 'split4_test_score': array([0.55, 0.55, 0.6 ]),\n",
       " 'mean_test_score': array([0.61, 0.57, 0.59]),\n",
       " 'std_test_score': array([0.03741657, 0.04      , 0.04898979]),\n",
       " 'rank_test_score': array([1, 3, 2], dtype=int32)}"
      ]
     },
     "execution_count": 15,
     "metadata": {},
     "output_type": "execute_result"
    }
   ],
   "source": [
    "model_object = SVC()\n",
    "\n",
    "hyperparameters = {\n",
    "    \"C\":[1,10,20],\n",
    "    \"kernel\":[\"rbf\",\"linear\"]\n",
    "}\n",
    "\n",
    "grid = RandomizedSearchCV(model_object,hyperparameters,cv=5,return_train_score=False,n_iter=3)\n",
    "grid.fit(x,y)\n",
    "\n",
    "gridSearch_result = grid.cv_results_\n",
    "\n",
    "gridSearch_result"
   ]
  },
  {
   "cell_type": "markdown",
   "id": "aggressive-family",
   "metadata": {},
   "source": [
    "**It is hard to visualize the results in this form , hence convert it to a dataframe.**"
   ]
  },
  {
   "cell_type": "code",
   "execution_count": 16,
   "id": "broad-beauty",
   "metadata": {},
   "outputs": [
    {
     "data": {
      "text/html": [
       "<div>\n",
       "<style scoped>\n",
       "    .dataframe tbody tr th:only-of-type {\n",
       "        vertical-align: middle;\n",
       "    }\n",
       "\n",
       "    .dataframe tbody tr th {\n",
       "        vertical-align: top;\n",
       "    }\n",
       "\n",
       "    .dataframe thead th {\n",
       "        text-align: right;\n",
       "    }\n",
       "</style>\n",
       "<table border=\"1\" class=\"dataframe\">\n",
       "  <thead>\n",
       "    <tr style=\"text-align: right;\">\n",
       "      <th></th>\n",
       "      <th>mean_fit_time</th>\n",
       "      <th>std_fit_time</th>\n",
       "      <th>mean_score_time</th>\n",
       "      <th>std_score_time</th>\n",
       "      <th>param_kernel</th>\n",
       "      <th>param_C</th>\n",
       "      <th>params</th>\n",
       "      <th>split0_test_score</th>\n",
       "      <th>split1_test_score</th>\n",
       "      <th>split2_test_score</th>\n",
       "      <th>split3_test_score</th>\n",
       "      <th>split4_test_score</th>\n",
       "      <th>mean_test_score</th>\n",
       "      <th>std_test_score</th>\n",
       "      <th>rank_test_score</th>\n",
       "    </tr>\n",
       "  </thead>\n",
       "  <tbody>\n",
       "    <tr>\n",
       "      <th>0</th>\n",
       "      <td>1.296586</td>\n",
       "      <td>2.049923</td>\n",
       "      <td>0.000000</td>\n",
       "      <td>0.000000</td>\n",
       "      <td>linear</td>\n",
       "      <td>20</td>\n",
       "      <td>{'kernel': 'linear', 'C': 20}</td>\n",
       "      <td>0.65</td>\n",
       "      <td>0.6</td>\n",
       "      <td>0.60</td>\n",
       "      <td>0.65</td>\n",
       "      <td>0.55</td>\n",
       "      <td>0.61</td>\n",
       "      <td>0.037417</td>\n",
       "      <td>1</td>\n",
       "    </tr>\n",
       "    <tr>\n",
       "      <th>1</th>\n",
       "      <td>0.002407</td>\n",
       "      <td>0.001965</td>\n",
       "      <td>0.000800</td>\n",
       "      <td>0.001600</td>\n",
       "      <td>rbf</td>\n",
       "      <td>10</td>\n",
       "      <td>{'kernel': 'rbf', 'C': 10}</td>\n",
       "      <td>0.50</td>\n",
       "      <td>0.6</td>\n",
       "      <td>0.60</td>\n",
       "      <td>0.60</td>\n",
       "      <td>0.55</td>\n",
       "      <td>0.57</td>\n",
       "      <td>0.040000</td>\n",
       "      <td>3</td>\n",
       "    </tr>\n",
       "    <tr>\n",
       "      <th>2</th>\n",
       "      <td>0.004091</td>\n",
       "      <td>0.000165</td>\n",
       "      <td>0.001812</td>\n",
       "      <td>0.001839</td>\n",
       "      <td>rbf</td>\n",
       "      <td>20</td>\n",
       "      <td>{'kernel': 'rbf', 'C': 20}</td>\n",
       "      <td>0.50</td>\n",
       "      <td>0.6</td>\n",
       "      <td>0.65</td>\n",
       "      <td>0.60</td>\n",
       "      <td>0.60</td>\n",
       "      <td>0.59</td>\n",
       "      <td>0.048990</td>\n",
       "      <td>2</td>\n",
       "    </tr>\n",
       "  </tbody>\n",
       "</table>\n",
       "</div>"
      ],
      "text/plain": [
       "   mean_fit_time  std_fit_time  mean_score_time  std_score_time param_kernel  \\\n",
       "0       1.296586      2.049923         0.000000        0.000000       linear   \n",
       "1       0.002407      0.001965         0.000800        0.001600          rbf   \n",
       "2       0.004091      0.000165         0.001812        0.001839          rbf   \n",
       "\n",
       "  param_C                         params  split0_test_score  \\\n",
       "0      20  {'kernel': 'linear', 'C': 20}               0.65   \n",
       "1      10     {'kernel': 'rbf', 'C': 10}               0.50   \n",
       "2      20     {'kernel': 'rbf', 'C': 20}               0.50   \n",
       "\n",
       "   split1_test_score  split2_test_score  split3_test_score  split4_test_score  \\\n",
       "0                0.6               0.60               0.65               0.55   \n",
       "1                0.6               0.60               0.60               0.55   \n",
       "2                0.6               0.65               0.60               0.60   \n",
       "\n",
       "   mean_test_score  std_test_score  rank_test_score  \n",
       "0             0.61        0.037417                1  \n",
       "1             0.57        0.040000                3  \n",
       "2             0.59        0.048990                2  "
      ]
     },
     "execution_count": 16,
     "metadata": {},
     "output_type": "execute_result"
    }
   ],
   "source": [
    "df_grid = pd.DataFrame(gridSearch_result)\n",
    "df_grid"
   ]
  },
  {
   "cell_type": "markdown",
   "id": "accomplished-dodge",
   "metadata": {},
   "source": [
    "**Fetching only required columns. Since we passed n_iter=3 only 3 random combinations of all hyperparameters we used.**"
   ]
  },
  {
   "cell_type": "code",
   "execution_count": 17,
   "id": "overall-drilling",
   "metadata": {},
   "outputs": [
    {
     "data": {
      "text/html": [
       "<div>\n",
       "<style scoped>\n",
       "    .dataframe tbody tr th:only-of-type {\n",
       "        vertical-align: middle;\n",
       "    }\n",
       "\n",
       "    .dataframe tbody tr th {\n",
       "        vertical-align: top;\n",
       "    }\n",
       "\n",
       "    .dataframe thead th {\n",
       "        text-align: right;\n",
       "    }\n",
       "</style>\n",
       "<table border=\"1\" class=\"dataframe\">\n",
       "  <thead>\n",
       "    <tr style=\"text-align: right;\">\n",
       "      <th></th>\n",
       "      <th>param_C</th>\n",
       "      <th>param_kernel</th>\n",
       "      <th>mean_test_score</th>\n",
       "    </tr>\n",
       "  </thead>\n",
       "  <tbody>\n",
       "    <tr>\n",
       "      <th>0</th>\n",
       "      <td>20</td>\n",
       "      <td>linear</td>\n",
       "      <td>0.61</td>\n",
       "    </tr>\n",
       "    <tr>\n",
       "      <th>1</th>\n",
       "      <td>10</td>\n",
       "      <td>rbf</td>\n",
       "      <td>0.57</td>\n",
       "    </tr>\n",
       "    <tr>\n",
       "      <th>2</th>\n",
       "      <td>20</td>\n",
       "      <td>rbf</td>\n",
       "      <td>0.59</td>\n",
       "    </tr>\n",
       "  </tbody>\n",
       "</table>\n",
       "</div>"
      ],
      "text/plain": [
       "  param_C param_kernel  mean_test_score\n",
       "0      20       linear             0.61\n",
       "1      10          rbf             0.57\n",
       "2      20          rbf             0.59"
      ]
     },
     "execution_count": 17,
     "metadata": {},
     "output_type": "execute_result"
    }
   ],
   "source": [
    "df_grid = df_grid[[\"param_C\",\"param_kernel\",\"mean_test_score\"]]\n",
    "df_grid"
   ]
  },
  {
   "cell_type": "markdown",
   "id": "electrical-swaziland",
   "metadata": {},
   "source": [
    "**You can look manually or use the best_params_ variable to get the best values of your hyperparameters**"
   ]
  },
  {
   "cell_type": "code",
   "execution_count": 18,
   "id": "drawn-broad",
   "metadata": {},
   "outputs": [
    {
     "data": {
      "text/plain": [
       "{'kernel': 'linear', 'C': 20}"
      ]
     },
     "execution_count": 18,
     "metadata": {},
     "output_type": "execute_result"
    }
   ],
   "source": [
    "best_hyperparameters = grid.best_params_\n",
    "best_hyperparameters"
   ]
  },
  {
   "cell_type": "markdown",
   "id": "fitting-harvard",
   "metadata": {},
   "source": [
    "**Note : In this case we use SVC which didnt gave much good accuracy at all , hence its recommended to perform the same with different models and choose the most optimal.**"
   ]
  }
 ],
 "metadata": {
  "kernelspec": {
   "display_name": "Python 3",
   "language": "python",
   "name": "python3"
  },
  "language_info": {
   "codemirror_mode": {
    "name": "ipython",
    "version": 3
   },
   "file_extension": ".py",
   "mimetype": "text/x-python",
   "name": "python",
   "nbconvert_exporter": "python",
   "pygments_lexer": "ipython3",
   "version": "3.8.5"
  }
 },
 "nbformat": 4,
 "nbformat_minor": 5
}
