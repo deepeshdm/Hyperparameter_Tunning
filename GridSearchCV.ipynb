{
 "cells": [
  {
   "cell_type": "markdown",
   "id": "silver-skating",
   "metadata": {},
   "source": [
    "# GridSearch using SkLearn"
   ]
  },
  {
   "cell_type": "code",
   "execution_count": 1,
   "id": "handmade-vector",
   "metadata": {},
   "outputs": [],
   "source": [
    "import pandas as pd\n",
    "import numpy as np\n",
    "from sklearn.model_selection import GridSearchCV\n",
    "from sklearn.svm import SVC"
   ]
  },
  {
   "cell_type": "code",
   "execution_count": 3,
   "id": "measured-excerpt",
   "metadata": {},
   "outputs": [],
   "source": [
    "df = pd.read_csv(\"Titanic_Dataset.csv\")\n",
    "age_mean = np.mean(df[\"Age\"])\n",
    "df[\"Age\"].fillna(age_mean,inplace=True)"
   ]
  },
  {
   "cell_type": "markdown",
   "id": "romance-america",
   "metadata": {},
   "source": [
    "**Taking only first 100 samples to reduce computation time**"
   ]
  },
  {
   "cell_type": "code",
   "execution_count": 7,
   "id": "exposed-puppy",
   "metadata": {},
   "outputs": [],
   "source": [
    "x = np.array(df[[\"Age\",\"SibSp\",\"Parch\"]].head(100))\n",
    "y = np.array(df[\"Survived\"].head(100))"
   ]
  },
  {
   "cell_type": "markdown",
   "id": "white-finding",
   "metadata": {},
   "source": [
    "**Creating required parameters**"
   ]
  },
  {
   "cell_type": "code",
   "execution_count": 8,
   "id": "material-blind",
   "metadata": {},
   "outputs": [
    {
     "data": {
      "text/plain": [
       "{'mean_fit_time': array([0.00279179, 0.01116853, 0.00259275, 0.70810509, 0.00179448,\n",
       "        0.91894135]),\n",
       " 'std_fit_time': array([3.96927012e-04, 8.51944269e-03, 7.97665256e-04, 1.19663524e+00,\n",
       "        4.00257764e-04, 1.42535960e+00]),\n",
       " 'mean_score_time': array([0.00139709, 0.00099831, 0.0009973 , 0.00079908, 0.00059776,\n",
       "        0.00059934]),\n",
       " 'std_score_time': array([4.88269199e-04, 2.78041453e-07, 6.30073087e-04, 3.99543292e-04,\n",
       "        4.88074578e-04, 4.89356498e-04]),\n",
       " 'param_C': masked_array(data=[1, 1, 10, 10, 20, 20],\n",
       "              mask=[False, False, False, False, False, False],\n",
       "        fill_value='?',\n",
       "             dtype=object),\n",
       " 'param_kernel': masked_array(data=['rbf', 'linear', 'rbf', 'linear', 'rbf', 'linear'],\n",
       "              mask=[False, False, False, False, False, False],\n",
       "        fill_value='?',\n",
       "             dtype=object),\n",
       " 'params': [{'C': 1, 'kernel': 'rbf'},\n",
       "  {'C': 1, 'kernel': 'linear'},\n",
       "  {'C': 10, 'kernel': 'rbf'},\n",
       "  {'C': 10, 'kernel': 'linear'},\n",
       "  {'C': 20, 'kernel': 'rbf'},\n",
       "  {'C': 20, 'kernel': 'linear'}],\n",
       " 'split0_test_score': array([0.6 , 0.65, 0.5 , 0.65, 0.5 , 0.65]),\n",
       " 'split1_test_score': array([0.6, 0.6, 0.6, 0.6, 0.6, 0.6]),\n",
       " 'split2_test_score': array([0.6 , 0.6 , 0.6 , 0.6 , 0.65, 0.6 ]),\n",
       " 'split3_test_score': array([0.6 , 0.65, 0.6 , 0.65, 0.6 , 0.65]),\n",
       " 'split4_test_score': array([0.55, 0.55, 0.55, 0.55, 0.6 , 0.55]),\n",
       " 'mean_test_score': array([0.59, 0.61, 0.57, 0.61, 0.59, 0.61]),\n",
       " 'std_test_score': array([0.02      , 0.03741657, 0.04      , 0.03741657, 0.04898979,\n",
       "        0.03741657]),\n",
       " 'rank_test_score': array([4, 1, 6, 1, 4, 1], dtype=int32)}"
      ]
     },
     "execution_count": 8,
     "metadata": {},
     "output_type": "execute_result"
    }
   ],
   "source": [
    "model_object = SVC()\n",
    "\n",
    "hyperparameters = {\n",
    "    \"C\":[1,10,20],\n",
    "    \"kernel\":[\"rbf\",\"linear\"]\n",
    "}\n",
    "\n",
    "grid = GridSearchCV(model_object,hyperparameters,cv=5,return_train_score=False)\n",
    "grid.fit(x,y)\n",
    "\n",
    "gridSearch_result = grid.cv_results_\n",
    "\n",
    "gridSearch_result"
   ]
  },
  {
   "cell_type": "markdown",
   "id": "aggressive-family",
   "metadata": {},
   "source": [
    "**It is hard to visualize the results in this form , hence convert it to a dataframe.**"
   ]
  },
  {
   "cell_type": "code",
   "execution_count": 9,
   "id": "broad-beauty",
   "metadata": {},
   "outputs": [
    {
     "data": {
      "text/html": [
       "<div>\n",
       "<style scoped>\n",
       "    .dataframe tbody tr th:only-of-type {\n",
       "        vertical-align: middle;\n",
       "    }\n",
       "\n",
       "    .dataframe tbody tr th {\n",
       "        vertical-align: top;\n",
       "    }\n",
       "\n",
       "    .dataframe thead th {\n",
       "        text-align: right;\n",
       "    }\n",
       "</style>\n",
       "<table border=\"1\" class=\"dataframe\">\n",
       "  <thead>\n",
       "    <tr style=\"text-align: right;\">\n",
       "      <th></th>\n",
       "      <th>mean_fit_time</th>\n",
       "      <th>std_fit_time</th>\n",
       "      <th>mean_score_time</th>\n",
       "      <th>std_score_time</th>\n",
       "      <th>param_C</th>\n",
       "      <th>param_kernel</th>\n",
       "      <th>params</th>\n",
       "      <th>split0_test_score</th>\n",
       "      <th>split1_test_score</th>\n",
       "      <th>split2_test_score</th>\n",
       "      <th>split3_test_score</th>\n",
       "      <th>split4_test_score</th>\n",
       "      <th>mean_test_score</th>\n",
       "      <th>std_test_score</th>\n",
       "      <th>rank_test_score</th>\n",
       "    </tr>\n",
       "  </thead>\n",
       "  <tbody>\n",
       "    <tr>\n",
       "      <th>0</th>\n",
       "      <td>0.002792</td>\n",
       "      <td>0.000397</td>\n",
       "      <td>0.001397</td>\n",
       "      <td>4.882692e-04</td>\n",
       "      <td>1</td>\n",
       "      <td>rbf</td>\n",
       "      <td>{'C': 1, 'kernel': 'rbf'}</td>\n",
       "      <td>0.60</td>\n",
       "      <td>0.6</td>\n",
       "      <td>0.60</td>\n",
       "      <td>0.60</td>\n",
       "      <td>0.55</td>\n",
       "      <td>0.59</td>\n",
       "      <td>0.020000</td>\n",
       "      <td>4</td>\n",
       "    </tr>\n",
       "    <tr>\n",
       "      <th>1</th>\n",
       "      <td>0.011169</td>\n",
       "      <td>0.008519</td>\n",
       "      <td>0.000998</td>\n",
       "      <td>2.780415e-07</td>\n",
       "      <td>1</td>\n",
       "      <td>linear</td>\n",
       "      <td>{'C': 1, 'kernel': 'linear'}</td>\n",
       "      <td>0.65</td>\n",
       "      <td>0.6</td>\n",
       "      <td>0.60</td>\n",
       "      <td>0.65</td>\n",
       "      <td>0.55</td>\n",
       "      <td>0.61</td>\n",
       "      <td>0.037417</td>\n",
       "      <td>1</td>\n",
       "    </tr>\n",
       "    <tr>\n",
       "      <th>2</th>\n",
       "      <td>0.002593</td>\n",
       "      <td>0.000798</td>\n",
       "      <td>0.000997</td>\n",
       "      <td>6.300731e-04</td>\n",
       "      <td>10</td>\n",
       "      <td>rbf</td>\n",
       "      <td>{'C': 10, 'kernel': 'rbf'}</td>\n",
       "      <td>0.50</td>\n",
       "      <td>0.6</td>\n",
       "      <td>0.60</td>\n",
       "      <td>0.60</td>\n",
       "      <td>0.55</td>\n",
       "      <td>0.57</td>\n",
       "      <td>0.040000</td>\n",
       "      <td>6</td>\n",
       "    </tr>\n",
       "    <tr>\n",
       "      <th>3</th>\n",
       "      <td>0.708105</td>\n",
       "      <td>1.196635</td>\n",
       "      <td>0.000799</td>\n",
       "      <td>3.995433e-04</td>\n",
       "      <td>10</td>\n",
       "      <td>linear</td>\n",
       "      <td>{'C': 10, 'kernel': 'linear'}</td>\n",
       "      <td>0.65</td>\n",
       "      <td>0.6</td>\n",
       "      <td>0.60</td>\n",
       "      <td>0.65</td>\n",
       "      <td>0.55</td>\n",
       "      <td>0.61</td>\n",
       "      <td>0.037417</td>\n",
       "      <td>1</td>\n",
       "    </tr>\n",
       "    <tr>\n",
       "      <th>4</th>\n",
       "      <td>0.001794</td>\n",
       "      <td>0.000400</td>\n",
       "      <td>0.000598</td>\n",
       "      <td>4.880746e-04</td>\n",
       "      <td>20</td>\n",
       "      <td>rbf</td>\n",
       "      <td>{'C': 20, 'kernel': 'rbf'}</td>\n",
       "      <td>0.50</td>\n",
       "      <td>0.6</td>\n",
       "      <td>0.65</td>\n",
       "      <td>0.60</td>\n",
       "      <td>0.60</td>\n",
       "      <td>0.59</td>\n",
       "      <td>0.048990</td>\n",
       "      <td>4</td>\n",
       "    </tr>\n",
       "    <tr>\n",
       "      <th>5</th>\n",
       "      <td>0.918941</td>\n",
       "      <td>1.425360</td>\n",
       "      <td>0.000599</td>\n",
       "      <td>4.893565e-04</td>\n",
       "      <td>20</td>\n",
       "      <td>linear</td>\n",
       "      <td>{'C': 20, 'kernel': 'linear'}</td>\n",
       "      <td>0.65</td>\n",
       "      <td>0.6</td>\n",
       "      <td>0.60</td>\n",
       "      <td>0.65</td>\n",
       "      <td>0.55</td>\n",
       "      <td>0.61</td>\n",
       "      <td>0.037417</td>\n",
       "      <td>1</td>\n",
       "    </tr>\n",
       "  </tbody>\n",
       "</table>\n",
       "</div>"
      ],
      "text/plain": [
       "   mean_fit_time  std_fit_time  mean_score_time  std_score_time param_C  \\\n",
       "0       0.002792      0.000397         0.001397    4.882692e-04       1   \n",
       "1       0.011169      0.008519         0.000998    2.780415e-07       1   \n",
       "2       0.002593      0.000798         0.000997    6.300731e-04      10   \n",
       "3       0.708105      1.196635         0.000799    3.995433e-04      10   \n",
       "4       0.001794      0.000400         0.000598    4.880746e-04      20   \n",
       "5       0.918941      1.425360         0.000599    4.893565e-04      20   \n",
       "\n",
       "  param_kernel                         params  split0_test_score  \\\n",
       "0          rbf      {'C': 1, 'kernel': 'rbf'}               0.60   \n",
       "1       linear   {'C': 1, 'kernel': 'linear'}               0.65   \n",
       "2          rbf     {'C': 10, 'kernel': 'rbf'}               0.50   \n",
       "3       linear  {'C': 10, 'kernel': 'linear'}               0.65   \n",
       "4          rbf     {'C': 20, 'kernel': 'rbf'}               0.50   \n",
       "5       linear  {'C': 20, 'kernel': 'linear'}               0.65   \n",
       "\n",
       "   split1_test_score  split2_test_score  split3_test_score  split4_test_score  \\\n",
       "0                0.6               0.60               0.60               0.55   \n",
       "1                0.6               0.60               0.65               0.55   \n",
       "2                0.6               0.60               0.60               0.55   \n",
       "3                0.6               0.60               0.65               0.55   \n",
       "4                0.6               0.65               0.60               0.60   \n",
       "5                0.6               0.60               0.65               0.55   \n",
       "\n",
       "   mean_test_score  std_test_score  rank_test_score  \n",
       "0             0.59        0.020000                4  \n",
       "1             0.61        0.037417                1  \n",
       "2             0.57        0.040000                6  \n",
       "3             0.61        0.037417                1  \n",
       "4             0.59        0.048990                4  \n",
       "5             0.61        0.037417                1  "
      ]
     },
     "execution_count": 9,
     "metadata": {},
     "output_type": "execute_result"
    }
   ],
   "source": [
    "df_grid = pd.DataFrame(gridSearch_result)\n",
    "df_grid"
   ]
  },
  {
   "cell_type": "markdown",
   "id": "accomplished-dodge",
   "metadata": {},
   "source": [
    "**Fetching only required columns.**"
   ]
  },
  {
   "cell_type": "code",
   "execution_count": 10,
   "id": "overall-drilling",
   "metadata": {},
   "outputs": [
    {
     "data": {
      "text/html": [
       "<div>\n",
       "<style scoped>\n",
       "    .dataframe tbody tr th:only-of-type {\n",
       "        vertical-align: middle;\n",
       "    }\n",
       "\n",
       "    .dataframe tbody tr th {\n",
       "        vertical-align: top;\n",
       "    }\n",
       "\n",
       "    .dataframe thead th {\n",
       "        text-align: right;\n",
       "    }\n",
       "</style>\n",
       "<table border=\"1\" class=\"dataframe\">\n",
       "  <thead>\n",
       "    <tr style=\"text-align: right;\">\n",
       "      <th></th>\n",
       "      <th>param_C</th>\n",
       "      <th>param_kernel</th>\n",
       "      <th>mean_test_score</th>\n",
       "    </tr>\n",
       "  </thead>\n",
       "  <tbody>\n",
       "    <tr>\n",
       "      <th>0</th>\n",
       "      <td>1</td>\n",
       "      <td>rbf</td>\n",
       "      <td>0.59</td>\n",
       "    </tr>\n",
       "    <tr>\n",
       "      <th>1</th>\n",
       "      <td>1</td>\n",
       "      <td>linear</td>\n",
       "      <td>0.61</td>\n",
       "    </tr>\n",
       "    <tr>\n",
       "      <th>2</th>\n",
       "      <td>10</td>\n",
       "      <td>rbf</td>\n",
       "      <td>0.57</td>\n",
       "    </tr>\n",
       "    <tr>\n",
       "      <th>3</th>\n",
       "      <td>10</td>\n",
       "      <td>linear</td>\n",
       "      <td>0.61</td>\n",
       "    </tr>\n",
       "    <tr>\n",
       "      <th>4</th>\n",
       "      <td>20</td>\n",
       "      <td>rbf</td>\n",
       "      <td>0.59</td>\n",
       "    </tr>\n",
       "    <tr>\n",
       "      <th>5</th>\n",
       "      <td>20</td>\n",
       "      <td>linear</td>\n",
       "      <td>0.61</td>\n",
       "    </tr>\n",
       "  </tbody>\n",
       "</table>\n",
       "</div>"
      ],
      "text/plain": [
       "  param_C param_kernel  mean_test_score\n",
       "0       1          rbf             0.59\n",
       "1       1       linear             0.61\n",
       "2      10          rbf             0.57\n",
       "3      10       linear             0.61\n",
       "4      20          rbf             0.59\n",
       "5      20       linear             0.61"
      ]
     },
     "execution_count": 10,
     "metadata": {},
     "output_type": "execute_result"
    }
   ],
   "source": [
    "df_grid = df_grid[[\"param_C\",\"param_kernel\",\"mean_test_score\"]]\n",
    "df_grid"
   ]
  },
  {
   "cell_type": "markdown",
   "id": "electrical-swaziland",
   "metadata": {},
   "source": [
    "**You can look manually or use the best_params_ variable to get the best values of your hyperparameters**"
   ]
  },
  {
   "cell_type": "code",
   "execution_count": 11,
   "id": "drawn-broad",
   "metadata": {},
   "outputs": [
    {
     "data": {
      "text/plain": [
       "{'C': 1, 'kernel': 'linear'}"
      ]
     },
     "execution_count": 11,
     "metadata": {},
     "output_type": "execute_result"
    }
   ],
   "source": [
    "best_hyperparameters = grid.best_params_\n",
    "best_hyperparameters"
   ]
  },
  {
   "cell_type": "markdown",
   "id": "fitting-harvard",
   "metadata": {},
   "source": [
    "**Note : In this case we use SVC which didnt gave much good accuracy at all , hence its recommended to perform the same with different models and choose the most optimal.**"
   ]
  }
 ],
 "metadata": {
  "kernelspec": {
   "display_name": "Python 3",
   "language": "python",
   "name": "python3"
  },
  "language_info": {
   "codemirror_mode": {
    "name": "ipython",
    "version": 3
   },
   "file_extension": ".py",
   "mimetype": "text/x-python",
   "name": "python",
   "nbconvert_exporter": "python",
   "pygments_lexer": "ipython3",
   "version": "3.8.5"
  }
 },
 "nbformat": 4,
 "nbformat_minor": 5
}
